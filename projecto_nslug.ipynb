{
 "cells": [
  {
   "cell_type": "code",
   "execution_count": 1,
   "id": "5f3af586",
   "metadata": {},
   "outputs": [],
   "source": [
    "import time\n",
    "import copy\n",
    "import math\n",
    "import torch\n",
    "\n",
    "from nslug.main_gp import gp  \n",
    "from nslug.main_nslug import nslug  \n",
    "from nslug.main_ga import ga\n",
    "from nslug.datasets.data_loader import load_parkinson , load_gametes\n",
    "from nslug.evaluators.fitness_functions import accuracy  \n",
    "from nslug.utils.utils import (protected_div,get_terminals,get_best_max,create_custom_list,train_test_split)\n",
    "from nslug.initializers.initializers import *\n",
    "\n",
    "from nslug.algorithms.GP.representations.tree_utils import create_grow_random_tree,create_full_random_tree,flatten,used_terminals,fix_terminals,fix_tree,create_random_random_tree,create_full_random_tree_list_mode\n",
    "from nslug.algorithms.GP.representations.tree import Tree\n",
    "from nslug.algorithms.GP.operators.mutators import *\n",
    "\n",
    "\n",
    "from nslug.algorithms.GA.representations.population import Population_ga\n",
    "from nslug.algorithms.GA.representations.individual import individual\n",
    "from nslug.algorithms.GA.operators.mutators import ga_mutation,ga_delete,ga_insert\n",
    "from nslug.algorithms.GA.operators.crossover_operators import single_point_crossover\n",
    "\n",
    "\n"
   ]
  },
  {
   "cell_type": "code",
   "execution_count": null,
   "id": "156445be",
   "metadata": {},
   "outputs": [],
   "source": [
    "#X, y = load_gametes(2,10,0.1,X_y=True)\n",
    "X, y = load_parkinson(X_y=True)\n",
    "X_train, X_test, y_train, y_test = train_test_split(X, y, p_test=0.4)\n",
    "X_val, X_test, y_val, y_test = train_test_split(X_test, y_test, p_test=0.5)\n"
   ]
  },
  {
   "cell_type": "code",
   "execution_count": 2,
   "id": "843c62be",
   "metadata": {},
   "outputs": [],
   "source": [
    "X, y = load_gametes(3,1000,0.1,X_y=True)\n",
    "X_train, X_test, y_train, y_test = train_test_split(X, y, p_test=0.4)\n",
    "X_val, X_test, y_val, y_test = train_test_split(X_test, y_test, p_test=0.5)"
   ]
  },
  {
   "cell_type": "code",
   "execution_count": null,
   "id": "640f5896",
   "metadata": {},
   "outputs": [],
   "source": [
    "FUNCTIONS = {\n",
    "    'add': {'function': torch.add, 'arity': 2},\n",
    "    'subtract': {'function': torch.sub, 'arity': 2},\n",
    "    'multiply': {'function': torch.mul, 'arity': 2},\n",
    "    'divide': {'function': protected_div, 'arity': 2}\n",
    "}\n",
    "CONSTANTS = {\n",
    "    'constant_2': lambda _: torch.tensor(2.0),\n",
    "    'constant_3': lambda _: torch.tensor(3.0),\n",
    "    'constant_4': lambda _: torch.tensor(4.0),\n",
    "    'constant_5': lambda _: torch.tensor(5.0),\n",
    "    'constant__1': lambda _: torch.tensor(-1.0)\n",
    "}\n",
    "TERMINALS = get_terminals(X_train)"
   ]
  },
  {
   "cell_type": "code",
   "execution_count": null,
   "id": "5a0bd248",
   "metadata": {},
   "outputs": [],
   "source": [
    "TERMINALS"
   ]
  },
  {
   "cell_type": "markdown",
   "id": "deaf95c4",
   "metadata": {},
   "source": [
    "eCrossover"
   ]
  },
  {
   "cell_type": "code",
   "execution_count": null,
   "id": "fe920297",
   "metadata": {},
   "outputs": [],
   "source": [
    "from nslug.algorithms.GP.operators.crossover_operators import crossover_trees,ecrossover_trees"
   ]
  },
  {
   "cell_type": "code",
   "execution_count": null,
   "id": "75e20341",
   "metadata": {},
   "outputs": [],
   "source": [
    "tree=create_full_random_tree(4,FUNCTIONS, TERMINALS, CONSTANTS, p_c=0)\n",
    "node_tree=len(list(flatten(tree)))\n",
    "tree1=create_full_random_tree(4,FUNCTIONS, TERMINALS, CONSTANTS, p_c=0)\n",
    "node_tree1=len(list(flatten(tree1)))"
   ]
  },
  {
   "cell_type": "code",
   "execution_count": null,
   "id": "1cc3ce96",
   "metadata": {
    "scrolled": true
   },
   "outputs": [],
   "source": [
    "used_terminal=used_terminals(tree,TERMINALS)\n",
    "used_terminal"
   ]
  },
  {
   "cell_type": "code",
   "execution_count": null,
   "id": "46cab16b",
   "metadata": {},
   "outputs": [],
   "source": [
    "keys_to_select = {'x0','x1','x4','x7','x8'}\n",
    "TERMINALS1={k: TERMINALS[k] for k in keys_to_select if k in TERMINALS}\n",
    "TERMINALS1"
   ]
  },
  {
   "cell_type": "code",
   "execution_count": null,
   "id": "732e86aa",
   "metadata": {},
   "outputs": [],
   "source": [
    "aplica_ecrossover= ecrossover_trees(FUNCTIONS)"
   ]
  },
  {
   "cell_type": "code",
   "execution_count": null,
   "id": "edf6e322",
   "metadata": {},
   "outputs": [],
   "source": [
    "off1,off2=aplica_ecrossover(X_train,tree,tree1,node_tree,node_tree1,TERMINALS1,used_terminal,TERMINALS)"
   ]
  },
  {
   "cell_type": "code",
   "execution_count": null,
   "id": "8f6db03e",
   "metadata": {},
   "outputs": [],
   "source": [
    "used_terminals(off1,TERMINALS)"
   ]
  },
  {
   "cell_type": "code",
   "execution_count": null,
   "id": "472ba375",
   "metadata": {},
   "outputs": [],
   "source": [
    "TERMINALS1"
   ]
  },
  {
   "cell_type": "code",
   "execution_count": null,
   "id": "0b140414",
   "metadata": {},
   "outputs": [],
   "source": [
    "used_terminals(off2,TERMINALS)"
   ]
  },
  {
   "cell_type": "code",
   "execution_count": null,
   "id": "8a4cba59",
   "metadata": {},
   "outputs": [],
   "source": [
    "used_terminal"
   ]
  },
  {
   "cell_type": "code",
   "execution_count": null,
   "id": "c243193c",
   "metadata": {},
   "outputs": [],
   "source": [
    "tree"
   ]
  },
  {
   "cell_type": "code",
   "execution_count": null,
   "id": "1966960d",
   "metadata": {
    "scrolled": true
   },
   "outputs": [],
   "source": [
    "new_tree=fix_tree(tree,fix_terminals(X_train,used_terminal,TERMINALS1))\n",
    "new_tree"
   ]
  },
  {
   "cell_type": "markdown",
   "id": "34761abb",
   "metadata": {},
   "source": [
    "GA indivuals, population and operators"
   ]
  },
  {
   "cell_type": "code",
   "execution_count": null,
   "id": "4835ac82",
   "metadata": {
    "scrolled": true
   },
   "outputs": [],
   "source": [
    "random_init(10,TERMINALS)"
   ]
  },
  {
   "cell_type": "code",
   "execution_count": null,
   "id": "74478f5c",
   "metadata": {},
   "outputs": [],
   "source": [
    "individual.TERMINALS=TERMINALS"
   ]
  },
  {
   "cell_type": "code",
   "execution_count": null,
   "id": "98f72014",
   "metadata": {},
   "outputs": [],
   "source": [
    "population = Population_ga([individual(vec) for vec in random_init(10,TERMINALS)])"
   ]
  },
  {
   "cell_type": "code",
   "execution_count": null,
   "id": "08480394",
   "metadata": {},
   "outputs": [],
   "source": [
    "ga_individual=population.population[0]"
   ]
  },
  {
   "cell_type": "code",
   "execution_count": null,
   "id": "7d8ac9fa",
   "metadata": {},
   "outputs": [],
   "source": [
    "ga_individual.encoder"
   ]
  },
  {
   "cell_type": "code",
   "execution_count": null,
   "id": "aa7a82eb",
   "metadata": {},
   "outputs": [],
   "source": [
    "ga_individual.chromossome"
   ]
  },
  {
   "cell_type": "code",
   "execution_count": null,
   "id": "176a419b",
   "metadata": {},
   "outputs": [],
   "source": [
    "create_random_random_tree(6,FUNCTIONS,population.population[9].chromossome,CONSTANTS,0)"
   ]
  },
  {
   "cell_type": "code",
   "execution_count": null,
   "id": "c8becd4d",
   "metadata": {},
   "outputs": [],
   "source": [
    "ga_individual_delete=copy.deepcopy(ga_individual)\n",
    "ga_individual_insert=copy.deepcopy(ga_individual)"
   ]
  },
  {
   "cell_type": "code",
   "execution_count": null,
   "id": "e15722c8",
   "metadata": {},
   "outputs": [],
   "source": [
    "novo_dic={\n",
    "  'x5': 5,\n",
    " 'x7': 7,\n",
    " 'x11': 11,\n",
    " 'x12': 12,\n",
    " 'x14': 14,\n",
    " 'x17': 17,\n",
    " 'x18': 18}"
   ]
  },
  {
   "cell_type": "code",
   "execution_count": null,
   "id": "c8990aa1",
   "metadata": {},
   "outputs": [],
   "source": [
    "novo_ga_delete=ga_delete(ga_individual_delete,novo_dic)"
   ]
  },
  {
   "cell_type": "code",
   "execution_count": null,
   "id": "c8422696",
   "metadata": {},
   "outputs": [],
   "source": [
    "novo_ga_insert=ga_insert(ga_individual_insert)"
   ]
  },
  {
   "cell_type": "code",
   "execution_count": null,
   "id": "b630db40",
   "metadata": {},
   "outputs": [],
   "source": [
    "ga_individual.chromossome"
   ]
  },
  {
   "cell_type": "code",
   "execution_count": null,
   "id": "c0146453",
   "metadata": {},
   "outputs": [],
   "source": [
    "novo_ga_delete.chromossome"
   ]
  },
  {
   "cell_type": "code",
   "execution_count": null,
   "id": "88eda209",
   "metadata": {
    "scrolled": false
   },
   "outputs": [],
   "source": [
    "novo_ga_insert.chromossome"
   ]
  },
  {
   "cell_type": "code",
   "execution_count": null,
   "id": "1c7ba8c4",
   "metadata": {},
   "outputs": [],
   "source": [
    "tree_depth=math.ceil(math.log(len(ga_individual_insert.chromossome), 2))\n",
    "terminal_list=create_custom_list(list(ga_individual_insert.chromossome.keys()),tree_depth)\n",
    "terminal_list2=terminal_list.copy()"
   ]
  },
  {
   "cell_type": "code",
   "execution_count": null,
   "id": "d78371b5",
   "metadata": {},
   "outputs": [],
   "source": [
    "tree_ga=create_full_random_tree_list_mode(tree_depth+1,FUNCTIONS,terminal_list2)"
   ]
  },
  {
   "cell_type": "code",
   "execution_count": null,
   "id": "a3582ca7",
   "metadata": {
    "scrolled": true
   },
   "outputs": [],
   "source": [
    "dict(sorted(used_terminals(tree_ga,TERMINALS).items(), key=lambda item: item[1])) "
   ]
  },
  {
   "cell_type": "code",
   "execution_count": null,
   "id": "b5fe2c49",
   "metadata": {
    "scrolled": true
   },
   "outputs": [],
   "source": [
    "tree_ga"
   ]
  },
  {
   "cell_type": "code",
   "execution_count": null,
   "id": "64b17259",
   "metadata": {
    "scrolled": false
   },
   "outputs": [],
   "source": [
    "Tree.TERMINALS=TERMINALS\n",
    "Tree.FUNCTIONS=FUNCTIONS\n",
    "Tree.CONSTANTS=CONSTANTS\n",
    "tree_ga_insert=copy.deepcopy(tree_ga)\n",
    "tree_ga_insert=gp_insert(Tree(tree_ga_insert),novo_ga_insert.chromossome)"
   ]
  },
  {
   "cell_type": "code",
   "execution_count": null,
   "id": "30d07612",
   "metadata": {},
   "outputs": [],
   "source": [
    "tree_ga_insert.repr_"
   ]
  },
  {
   "cell_type": "code",
   "execution_count": null,
   "id": "e14cbd63",
   "metadata": {
    "scrolled": true
   },
   "outputs": [],
   "source": [
    "dict(sorted(used_terminals(tree_ga_insert.repr_,TERMINALS).items(), key=lambda item: item[1]))  "
   ]
  },
  {
   "cell_type": "code",
   "execution_count": null,
   "id": "3176b096",
   "metadata": {},
   "outputs": [],
   "source": [
    "novo_ga_insert.chromossome"
   ]
  },
  {
   "cell_type": "markdown",
   "id": "e986d296",
   "metadata": {},
   "source": [
    "GP"
   ]
  },
  {
   "cell_type": "code",
   "execution_count": null,
   "id": "a57bf9e5",
   "metadata": {},
   "outputs": [],
   "source": [
    "import time\n",
    "start=time.time()\n",
    "final_tree = gp(X_train=X_train, y_train=y_train,\n",
    "                X_test=X_val, y_test=y_val,\n",
    "                dataset_name='parkinsons', pop_size=100, n_iter=30, max_depth=None,minimization=False,verbose=1\n",
    "               # ,TERMINALS={'x0':0}, init_depth=2\n",
    "               )\n",
    "\n",
    "\n",
    "end=time.time()\n",
    "\n",
    "time=end-start\n",
    "\n",
    "predictions = final_tree.predict(X_test)"
   ]
  },
  {
   "cell_type": "code",
   "execution_count": null,
   "id": "ddc660cd",
   "metadata": {},
   "outputs": [],
   "source": [
    "final_tree.repr_"
   ]
  },
  {
   "cell_type": "code",
   "execution_count": null,
   "id": "de36b46f",
   "metadata": {},
   "outputs": [],
   "source": [
    "final_tree.fitness"
   ]
  },
  {
   "cell_type": "code",
   "execution_count": null,
   "id": "9fd3cd41",
   "metadata": {},
   "outputs": [],
   "source": [
    "print(time)"
   ]
  },
  {
   "cell_type": "code",
   "execution_count": null,
   "id": "9db2f371",
   "metadata": {},
   "outputs": [],
   "source": [
    "print(float(accuracy(y_true=y_test, y_pred=predictions)))"
   ]
  },
  {
   "cell_type": "code",
   "execution_count": null,
   "id": "6fa3ec9d",
   "metadata": {},
   "outputs": [],
   "source": [
    "from sklearn.metrics import accuracy_score\n",
    "y_real= y_test.numpy().astype(bool)\n",
    "y_previsto=(predictions > 0.5).int().numpy().astype(bool)"
   ]
  },
  {
   "cell_type": "code",
   "execution_count": null,
   "id": "8f10b7fa",
   "metadata": {},
   "outputs": [],
   "source": [
    "accuracy_real = accuracy_score(y_real, y_previsto)\n",
    "accuracy_real"
   ]
  },
  {
   "cell_type": "code",
   "execution_count": 76,
   "id": "2100f96e",
   "metadata": {},
   "outputs": [],
   "source": [
    "ficheiros=(\n",
    "(2,10,0.05),\n",
    "(2,10,0.1),\n",
    "(2,10,0.2),\n",
    "(2,10,0.4),\n",
    "(2,100,0.05),\n",
    "(2,100,0.1),\n",
    "(2,100,0.2),\n",
    "(2,100,0.4),\n",
    "(2,1000,0.05),\n",
    "(2,1000,0.1),\n",
    "(2,1000,0.2),\n",
    "(2,1000,0.4),\n",
    "(2,5000,0.05),\n",
    "(2,5000,0.1),\n",
    "(2,5000,0.2),\n",
    "(2,5000,0.4),\n",
    "(3,10,0.1),\n",
    "(3,10,0.2),\n",
    "(3,100,0.1),\n",
    "(3,100,0.2),\n",
    "(3,1000,0.1),\n",
    "(3,1000,0.2)\n",
    ")\n"
   ]
  },
  {
   "cell_type": "code",
   "execution_count": 3,
   "id": "89174d66",
   "metadata": {},
   "outputs": [],
   "source": [
    "ficheiros=(\n",
    "(3,10,0.1),\n",
    "(3,10,0.2),\n",
    "(3,100,0.1),\n",
    "(3,100,0.2),\n",
    "(3,1000,0.1),\n",
    "(3,1000,0.2)\n",
    ")\n"
   ]
  },
  {
   "cell_type": "code",
   "execution_count": 17,
   "id": "95ab7046",
   "metadata": {},
   "outputs": [],
   "source": [
    "ficheiros=(\n",
    "(2,10,0.2),\n",
    "(2,10,0.4),\n",
    "(2,100,0.05),\n",
    "(2,100,0.1),\n",
    "(2,100,0.2),\n",
    "(2,100,0.4),\n",
    "(2,1000,0.2),\n",
    "(2,1000,0.4)\n",
    ")\n"
   ]
  },
  {
   "cell_type": "code",
   "execution_count": 71,
   "id": "dc51cdee",
   "metadata": {
    "scrolled": true
   },
   "outputs": [
    {
     "name": "stderr",
     "output_type": "stream",
     "text": [
      "C:\\Users\\migue\\anaconda3\\lib\\site-packages\\nslug\\main_ga.py:140: UserWarning: If test_elite is True, a test dataset must be provided. test_elite has been set to False\n",
      "  warnings.warn(\"If test_elite is True, a test dataset must be provided. test_elite has been set to False\")\n",
      "C:\\Users\\migue\\anaconda3\\lib\\site-packages\\nslug\\main_gp.py:143: UserWarning: If test_elite is True, a test dataset must be provided. test_elite has been set to False\n",
      "  warnings.warn(\"If test_elite is True, a test dataset must be provided. test_elite has been set to False\")\n",
      "C:\\Users\\migue\\anaconda3\\lib\\site-packages\\nslug\\main_gp.py:152: UserWarning: No dataset name set. Using default value of dataset_1.\n",
      "  warnings.warn(\"No dataset name set. Using default value of dataset_1.\")\n"
     ]
    },
    {
     "name": "stdout",
     "output_type": "stream",
     "text": [
      "tensor(0.6317)\n"
     ]
    }
   ],
   "source": [
    "X, y = load_gametes(ficheiros[0][0],ficheiros[0][1],ficheiros[0][2],X_y=True)\n",
    "X_train, X_test, y_train, y_test = train_test_split(X, y, p_test=0.4)\n",
    "X_val, X_test, y_val, y_test = train_test_split(X_test, y_test, p_test=0.5)\n",
    "\n",
    "import time\n",
    "start=time.time()\n",
    "final_tree = ga(X_train=X_train, y_train=y_train,\n",
    "               # X_test=X_val, y_test=y_val,\n",
    "                dataset_name='load_parkinson', \n",
    "                pop_size=100, n_iter=50, n_jobs=2,minimization=False)\n",
    "end=time.time()\n",
    "\n",
    "time=end-start\n",
    "print(final_tree.fitness)"
   ]
  },
  {
   "cell_type": "code",
   "execution_count": 73,
   "id": "f59f6c68",
   "metadata": {},
   "outputs": [],
   "source": [
    "ficheiros=(\n",
    "(2,10,0.05),\n",
    "(2,10,0.1)\n",
    ")\n",
    "resultados=[]"
   ]
  },
  {
   "cell_type": "code",
   "execution_count": 74,
   "id": "cdd79597",
   "metadata": {},
   "outputs": [
    {
     "name": "stderr",
     "output_type": "stream",
     "text": [
      "C:\\Users\\migue\\anaconda3\\lib\\site-packages\\nslug\\main_ga.py:140: UserWarning: If test_elite is True, a test dataset must be provided. test_elite has been set to False\n",
      "  warnings.warn(\"If test_elite is True, a test dataset must be provided. test_elite has been set to False\")\n",
      "C:\\Users\\migue\\anaconda3\\lib\\site-packages\\nslug\\main_gp.py:143: UserWarning: If test_elite is True, a test dataset must be provided. test_elite has been set to False\n",
      "  warnings.warn(\"If test_elite is True, a test dataset must be provided. test_elite has been set to False\")\n",
      "C:\\Users\\migue\\anaconda3\\lib\\site-packages\\nslug\\main_gp.py:152: UserWarning: No dataset name set. Using default value of dataset_1.\n",
      "  warnings.warn(\"No dataset name set. Using default value of dataset_1.\")\n",
      "C:\\Users\\migue\\anaconda3\\lib\\site-packages\\nslug\\main_ga.py:140: UserWarning: If test_elite is True, a test dataset must be provided. test_elite has been set to False\n",
      "  warnings.warn(\"If test_elite is True, a test dataset must be provided. test_elite has been set to False\")\n",
      "C:\\Users\\migue\\anaconda3\\lib\\site-packages\\nslug\\main_gp.py:143: UserWarning: If test_elite is True, a test dataset must be provided. test_elite has been set to False\n",
      "  warnings.warn(\"If test_elite is True, a test dataset must be provided. test_elite has been set to False\")\n",
      "C:\\Users\\migue\\anaconda3\\lib\\site-packages\\nslug\\main_gp.py:152: UserWarning: No dataset name set. Using default value of dataset_1.\n",
      "  warnings.warn(\"No dataset name set. Using default value of dataset_1.\")\n"
     ]
    }
   ],
   "source": [
    "for nr_epi, nr_var, her in ficheiros:\n",
    "    X, y = load_gametes(nr_epi,nr_var,her,X_y=True)\n",
    "    X_train, X_test, y_train, y_test = train_test_split(X, y, p_test=0.4)\n",
    "    X_val, X_test, y_val, y_test = train_test_split(X_test, y_test, p_test=0.5)\n",
    "    \n",
    "    import time\n",
    "    start=time.time()\n",
    "    final_tree = ga(X_train=X_train, y_train=y_train,\n",
    "                   # X_test=X_val, y_test=y_val,\n",
    "                    dataset_name='load_parkinson', \n",
    "                    pop_size=100, n_iter=50, n_jobs=2,minimization=False)\n",
    "    end=time.time()\n",
    "\n",
    "    time=end-start\n",
    "    resultados.append((time,final_tree.fitness))\n",
    "    \n"
   ]
  },
  {
   "cell_type": "code",
   "execution_count": 75,
   "id": "eaa27b44",
   "metadata": {},
   "outputs": [
    {
     "data": {
      "text/plain": [
       "[(52.55325150489807, tensor(0.6317)), (39.869717597961426, tensor(0.6783))]"
      ]
     },
     "execution_count": 75,
     "metadata": {},
     "output_type": "execute_result"
    }
   ],
   "source": [
    "resultados"
   ]
  },
  {
   "cell_type": "markdown",
   "id": "573a4e64",
   "metadata": {},
   "source": [
    "SLUG"
   ]
  },
  {
   "cell_type": "code",
   "execution_count": null,
   "id": "b214b030",
   "metadata": {},
   "outputs": [],
   "source": []
  },
  {
   "cell_type": "code",
   "execution_count": null,
   "id": "ccff1f66",
   "metadata": {},
   "outputs": [],
   "source": [
    "print(final_tree.fitness)\n",
    "print(final_tree.model_repr_)\n",
    "print(used_terminals(final_tree.model_repr_,TERMINALS))\n",
    "print(time)"
   ]
  },
  {
   "cell_type": "markdown",
   "id": "97277b9a",
   "metadata": {},
   "source": [
    "NSLUG"
   ]
  },
  {
   "cell_type": "code",
   "execution_count": 4,
   "id": "42f11d4f",
   "metadata": {},
   "outputs": [],
   "source": [
    "resultados=[]"
   ]
  },
  {
   "cell_type": "markdown",
   "id": "1160dffa",
   "metadata": {},
   "source": [
    "versao standard"
   ]
  },
  {
   "cell_type": "code",
   "execution_count": null,
   "id": "a06ade78",
   "metadata": {},
   "outputs": [
    {
     "name": "stdout",
     "output_type": "stream",
     "text": [
      "tensor(0.6092)\n"
     ]
    }
   ],
   "source": [
    "\n",
    "for nr_epi, nr_var, her in ficheiros:\n",
    "    X, y = load_gametes(nr_epi,nr_var,her,X_y=True)\n",
    "    X_train, X_test, y_train, y_test = train_test_split(X, y, p_test=0.4)\n",
    "    X_val, X_test, y_val, y_test = train_test_split(X_test, y_test, p_test=0.5)\n",
    "    \n",
    "    import time\n",
    "    start=time.time()\n",
    "\n",
    "    final_tree = nslug(X_train=X_train, y_train=y_train,\n",
    "                        X_test=X_val, y_test=y_val,\n",
    "                        dataset_name='load_parkinson',verbose=False ,pop_size=150, n_iter=50, n_jobs=2,minimization=False, algorithm=\"standard\")\n",
    "\n",
    "    end=time.time()\n",
    "\n",
    "    time=end-start\n",
    "    print(final_tree.Tree.fitness)\n",
    "    resultados.append((time,final_tree.Tree.fitness))\n",
    "    \n",
    "\n"
   ]
  },
  {
   "cell_type": "code",
   "execution_count": null,
   "id": "92ccd86a",
   "metadata": {},
   "outputs": [],
   "source": [
    "resultados"
   ]
  },
  {
   "cell_type": "code",
   "execution_count": null,
   "id": "bca58b58",
   "metadata": {},
   "outputs": [],
   "source": [
    "print(final_tree.Tree.fitness)\n",
    "print(final_tree.Tree.repr_)\n",
    "print(final_tree.individual.chromossome)\n",
    "print(time)"
   ]
  },
  {
   "cell_type": "code",
   "execution_count": null,
   "id": "7d77ce9d",
   "metadata": {},
   "outputs": [],
   "source": [
    "import time\n",
    "start=time.time()\n",
    "\n",
    "final_tree = nslug(X_train=X_train, y_train=y_train,\n",
    "                    X_test=X_val, y_test=y_val,\n",
    "                    dataset_name='load_parkinson', pop_size=250, n_iter=30, n_jobs=2,minimization=False, algorithm=\"split_populatition\",pop_split=0.5)\n",
    "\n",
    "end=time.time()\n",
    "\n",
    "time=end-start"
   ]
  },
  {
   "cell_type": "code",
   "execution_count": null,
   "id": "f6155b70",
   "metadata": {
    "scrolled": true
   },
   "outputs": [],
   "source": [
    "print(final_tree.Tree.fitness)\n",
    "print(final_tree.Tree.repr_)\n",
    "print(final_tree.individual.chromossome)\n",
    "print(time)"
   ]
  },
  {
   "cell_type": "code",
   "execution_count": null,
   "id": "5cfdd295",
   "metadata": {},
   "outputs": [],
   "source": [
    "from nslug.datasets.data_loader import load_gametes  "
   ]
  },
  {
   "cell_type": "code",
   "execution_count": null,
   "id": "26b00a9f",
   "metadata": {},
   "outputs": [],
   "source": [
    "X, y = load_gametes(2,10,0.1,X_y=True)"
   ]
  },
  {
   "cell_type": "code",
   "execution_count": null,
   "id": "671afd53",
   "metadata": {},
   "outputs": [],
   "source": [
    "X"
   ]
  },
  {
   "cell_type": "code",
   "execution_count": null,
   "id": "87a81a3d",
   "metadata": {},
   "outputs": [],
   "source": [
    "y"
   ]
  }
 ],
 "metadata": {
  "kernelspec": {
   "display_name": "Python 3 (ipykernel)",
   "language": "python",
   "name": "python3"
  },
  "language_info": {
   "codemirror_mode": {
    "name": "ipython",
    "version": 3
   },
   "file_extension": ".py",
   "mimetype": "text/x-python",
   "name": "python",
   "nbconvert_exporter": "python",
   "pygments_lexer": "ipython3",
   "version": "3.9.12"
  }
 },
 "nbformat": 4,
 "nbformat_minor": 5
}
